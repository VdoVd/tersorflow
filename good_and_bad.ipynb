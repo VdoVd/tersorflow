{
 "cells": [
  {
   "cell_type": "code",
   "execution_count": 1,
   "id": "7e7bf8e8",
   "metadata": {},
   "outputs": [
    {
     "name": "stdout",
     "output_type": "stream",
     "text": [
      "2.10.0\n"
     ]
    }
   ],
   "source": [
    "import tensorflow as tf\n",
    "from tensorflow import keras\n",
    "import numpy as np\n",
    "print(tf.__version__)"
   ]
  },
  {
   "cell_type": "code",
   "execution_count": 2,
   "id": "70891422",
   "metadata": {},
   "outputs": [
    {
     "name": "stdout",
     "output_type": "stream",
     "text": [
      "Downloading data from https://storage.googleapis.com/tensorflow/tf-keras-datasets/imdb.npz\n",
      "17464789/17464789 [==============================] - 16s 1us/step\n"
     ]
    }
   ],
   "source": [
    "imdb = keras.datasets.imdb\n",
    "\n",
    "(train_data, train_labels), (test_data, test_labels) = imdb.load_data(num_words=10000)"
   ]
  },
  {
   "cell_type": "code",
   "execution_count": 3,
   "id": "bf823939",
   "metadata": {},
   "outputs": [
    {
     "name": "stdout",
     "output_type": "stream",
     "text": [
      "Training entries: 25000, labels: 25000\n"
     ]
    }
   ],
   "source": [
    "print(\"Training entries: {}, labels: {}\".format(len(train_data), len(train_labels)))"
   ]
  },
  {
   "cell_type": "code",
   "execution_count": 4,
   "id": "9e87d4f7",
   "metadata": {},
   "outputs": [
    {
     "name": "stdout",
     "output_type": "stream",
     "text": [
      "[1, 14, 22, 16, 43, 530, 973, 1622, 1385, 65, 458, 4468, 66, 3941, 4, 173, 36, 256, 5, 25, 100, 43, 838, 112, 50, 670, 2, 9, 35, 480, 284, 5, 150, 4, 172, 112, 167, 2, 336, 385, 39, 4, 172, 4536, 1111, 17, 546, 38, 13, 447, 4, 192, 50, 16, 6, 147, 2025, 19, 14, 22, 4, 1920, 4613, 469, 4, 22, 71, 87, 12, 16, 43, 530, 38, 76, 15, 13, 1247, 4, 22, 17, 515, 17, 12, 16, 626, 18, 2, 5, 62, 386, 12, 8, 316, 8, 106, 5, 4, 2223, 5244, 16, 480, 66, 3785, 33, 4, 130, 12, 16, 38, 619, 5, 25, 124, 51, 36, 135, 48, 25, 1415, 33, 6, 22, 12, 215, 28, 77, 52, 5, 14, 407, 16, 82, 2, 8, 4, 107, 117, 5952, 15, 256, 4, 2, 7, 3766, 5, 723, 36, 71, 43, 530, 476, 26, 400, 317, 46, 7, 4, 2, 1029, 13, 104, 88, 4, 381, 15, 297, 98, 32, 2071, 56, 26, 141, 6, 194, 7486, 18, 4, 226, 22, 21, 134, 476, 26, 480, 5, 144, 30, 5535, 18, 51, 36, 28, 224, 92, 25, 104, 4, 226, 65, 16, 38, 1334, 88, 12, 16, 283, 5, 16, 4472, 113, 103, 32, 15, 16, 5345, 19, 178, 32]\n"
     ]
    }
   ],
   "source": [
    "print(train_data[0])"
   ]
  },
  {
   "cell_type": "code",
   "execution_count": 5,
   "id": "af223b5f",
   "metadata": {},
   "outputs": [
    {
     "data": {
      "text/plain": [
       "(218, 189)"
      ]
     },
     "execution_count": 5,
     "metadata": {},
     "output_type": "execute_result"
    }
   ],
   "source": [
    "len(train_data[0]), len(train_data[1])"
   ]
  },
  {
   "cell_type": "code",
   "execution_count": 6,
   "id": "5438e199",
   "metadata": {},
   "outputs": [
    {
     "name": "stdout",
     "output_type": "stream",
     "text": [
      "Downloading data from https://storage.googleapis.com/tensorflow/tf-keras-datasets/imdb_word_index.json\n",
      "1641221/1641221 [==============================] - 3s 2us/step\n"
     ]
    }
   ],
   "source": [
    "# 一个映射单词到整数索引的词典\n",
    "word_index = imdb.get_word_index()\n",
    "\n",
    "# 保留第一个索引\n",
    "word_index = {k:(v+3) for k,v in word_index.items()}\n",
    "word_index[\"<PAD>\"] = 0\n",
    "word_index[\"<START>\"] = 1\n",
    "word_index[\"<UNK>\"] = 2  # unknown\n",
    "word_index[\"<UNUSED>\"] = 3\n",
    "\n",
    "reverse_word_index = dict([(value, key) for (key, value) in word_index.items()])\n",
    "\n",
    "def decode_review(text):\n",
    "    return ' '.join([reverse_word_index.get(i, '?') for i in text])"
   ]
  },
  {
   "cell_type": "code",
   "execution_count": 7,
   "id": "a6a61845",
   "metadata": {},
   "outputs": [
    {
     "data": {
      "text/plain": [
       "\"<START> this film was just brilliant casting location scenery story direction everyone's really suited the part they played and you could just imagine being there robert <UNK> is an amazing actor and now the same being director <UNK> father came from the same scottish island as myself so i loved the fact there was a real connection with this film the witty remarks throughout the film were great it was just brilliant so much that i bought the film as soon as it was released for <UNK> and would recommend it to everyone to watch and the fly fishing was amazing really cried at the end it was so sad and you know what they say if you cry at a film it must have been good and this definitely was also <UNK> to the two little boy's that played the <UNK> of norman and paul they were just brilliant children are often left out of the <UNK> list i think because the stars that play them all grown up are such a big profile for the whole film but these children are amazing and should be praised for what they have done don't you think the whole story was so lovely because it was true and was someone's life after all that was shared with us all\""
      ]
     },
     "execution_count": 7,
     "metadata": {},
     "output_type": "execute_result"
    }
   ],
   "source": [
    "decode_review(train_data[0])"
   ]
  },
  {
   "cell_type": "code",
   "execution_count": 8,
   "id": "baa0f473",
   "metadata": {},
   "outputs": [],
   "source": [
    "train_data = keras.preprocessing.sequence.pad_sequences(train_data,\n",
    "                                                        value=word_index[\"<PAD>\"],\n",
    "                                                        padding='post',\n",
    "                                                        maxlen=256)\n",
    "\n",
    "test_data = keras.preprocessing.sequence.pad_sequences(test_data,\n",
    "                                                       value=word_index[\"<PAD>\"],\n",
    "                                                       padding='post',\n",
    "                                                       maxlen=256)"
   ]
  },
  {
   "cell_type": "code",
   "execution_count": 9,
   "id": "7db0ab51",
   "metadata": {},
   "outputs": [
    {
     "data": {
      "text/plain": [
       "(256, 256)"
      ]
     },
     "execution_count": 9,
     "metadata": {},
     "output_type": "execute_result"
    }
   ],
   "source": [
    "len(train_data[0]), len(train_data[1])"
   ]
  },
  {
   "cell_type": "code",
   "execution_count": 10,
   "id": "7961b62a",
   "metadata": {},
   "outputs": [
    {
     "name": "stdout",
     "output_type": "stream",
     "text": [
      "[   1   14   22   16   43  530  973 1622 1385   65  458 4468   66 3941\n",
      "    4  173   36  256    5   25  100   43  838  112   50  670    2    9\n",
      "   35  480  284    5  150    4  172  112  167    2  336  385   39    4\n",
      "  172 4536 1111   17  546   38   13  447    4  192   50   16    6  147\n",
      " 2025   19   14   22    4 1920 4613  469    4   22   71   87   12   16\n",
      "   43  530   38   76   15   13 1247    4   22   17  515   17   12   16\n",
      "  626   18    2    5   62  386   12    8  316    8  106    5    4 2223\n",
      " 5244   16  480   66 3785   33    4  130   12   16   38  619    5   25\n",
      "  124   51   36  135   48   25 1415   33    6   22   12  215   28   77\n",
      "   52    5   14  407   16   82    2    8    4  107  117 5952   15  256\n",
      "    4    2    7 3766    5  723   36   71   43  530  476   26  400  317\n",
      "   46    7    4    2 1029   13  104   88    4  381   15  297   98   32\n",
      " 2071   56   26  141    6  194 7486   18    4  226   22   21  134  476\n",
      "   26  480    5  144   30 5535   18   51   36   28  224   92   25  104\n",
      "    4  226   65   16   38 1334   88   12   16  283    5   16 4472  113\n",
      "  103   32   15   16 5345   19  178   32    0    0    0    0    0    0\n",
      "    0    0    0    0    0    0    0    0    0    0    0    0    0    0\n",
      "    0    0    0    0    0    0    0    0    0    0    0    0    0    0\n",
      "    0    0    0    0]\n"
     ]
    }
   ],
   "source": [
    "print(train_data[0])"
   ]
  },
  {
   "cell_type": "code",
   "execution_count": 11,
   "id": "2807d785",
   "metadata": {},
   "outputs": [
    {
     "name": "stdout",
     "output_type": "stream",
     "text": [
      "Model: \"sequential\"\n",
      "_________________________________________________________________\n",
      " Layer (type)                Output Shape              Param #   \n",
      "=================================================================\n",
      " embedding (Embedding)       (None, None, 16)          160000    \n",
      "                                                                 \n",
      " global_average_pooling1d (G  (None, 16)               0         \n",
      " lobalAveragePooling1D)                                          \n",
      "                                                                 \n",
      " dense (Dense)               (None, 16)                272       \n",
      "                                                                 \n",
      " dense_1 (Dense)             (None, 1)                 17        \n",
      "                                                                 \n",
      "=================================================================\n",
      "Total params: 160,289\n",
      "Trainable params: 160,289\n",
      "Non-trainable params: 0\n",
      "_________________________________________________________________\n"
     ]
    }
   ],
   "source": [
    "# 输入形状是用于电影评论的词汇数目（10,000 词）\n",
    "vocab_size = 10000\n",
    "\n",
    "model = keras.Sequential()\n",
    "model.add(keras.layers.Embedding(vocab_size, 16))\n",
    "model.add(keras.layers.GlobalAveragePooling1D())\n",
    "model.add(keras.layers.Dense(16, activation='relu'))\n",
    "model.add(keras.layers.Dense(1, activation='sigmoid'))\n",
    "\n",
    "model.summary()"
   ]
  },
  {
   "cell_type": "code",
   "execution_count": 12,
   "id": "a4223b37",
   "metadata": {},
   "outputs": [],
   "source": [
    "model.compile(optimizer='adam',\n",
    "              loss='binary_crossentropy',\n",
    "              metrics=['accuracy'])"
   ]
  },
  {
   "cell_type": "code",
   "execution_count": 13,
   "id": "d41deef8",
   "metadata": {},
   "outputs": [],
   "source": [
    "x_val = train_data[:10000]\n",
    "partial_x_train = train_data[10000:]\n",
    "\n",
    "y_val = train_labels[:10000]\n",
    "partial_y_train = train_labels[10000:]"
   ]
  },
  {
   "cell_type": "code",
   "execution_count": 14,
   "id": "45d8241c",
   "metadata": {},
   "outputs": [
    {
     "name": "stdout",
     "output_type": "stream",
     "text": [
      "Epoch 1/40\n",
      "30/30 [==============================] - 1s 19ms/step - loss: 0.6918 - accuracy: 0.5515 - val_loss: 0.6900 - val_accuracy: 0.6598\n",
      "Epoch 2/40\n",
      "30/30 [==============================] - 0s 13ms/step - loss: 0.6869 - accuracy: 0.7169 - val_loss: 0.6836 - val_accuracy: 0.7475\n",
      "Epoch 3/40\n",
      "30/30 [==============================] - 0s 12ms/step - loss: 0.6763 - accuracy: 0.7597 - val_loss: 0.6701 - val_accuracy: 0.7524\n",
      "Epoch 4/40\n",
      "30/30 [==============================] - 0s 13ms/step - loss: 0.6576 - accuracy: 0.7693 - val_loss: 0.6491 - val_accuracy: 0.7586\n",
      "Epoch 5/40\n",
      "30/30 [==============================] - 0s 12ms/step - loss: 0.6291 - accuracy: 0.7933 - val_loss: 0.6181 - val_accuracy: 0.7852\n",
      "Epoch 6/40\n",
      "30/30 [==============================] - 0s 12ms/step - loss: 0.5919 - accuracy: 0.8051 - val_loss: 0.5807 - val_accuracy: 0.7972\n",
      "Epoch 7/40\n",
      "30/30 [==============================] - 0s 12ms/step - loss: 0.5480 - accuracy: 0.8239 - val_loss: 0.5398 - val_accuracy: 0.8101\n",
      "Epoch 8/40\n",
      "30/30 [==============================] - 0s 12ms/step - loss: 0.5023 - accuracy: 0.8413 - val_loss: 0.4986 - val_accuracy: 0.8284\n",
      "Epoch 9/40\n",
      "30/30 [==============================] - 0s 12ms/step - loss: 0.4581 - accuracy: 0.8543 - val_loss: 0.4617 - val_accuracy: 0.8370\n",
      "Epoch 10/40\n",
      "30/30 [==============================] - 0s 12ms/step - loss: 0.4184 - accuracy: 0.8675 - val_loss: 0.4293 - val_accuracy: 0.8453\n",
      "Epoch 11/40\n",
      "30/30 [==============================] - 0s 12ms/step - loss: 0.3843 - accuracy: 0.8753 - val_loss: 0.4020 - val_accuracy: 0.8542\n",
      "Epoch 12/40\n",
      "30/30 [==============================] - 0s 13ms/step - loss: 0.3551 - accuracy: 0.8847 - val_loss: 0.3802 - val_accuracy: 0.8584\n",
      "Epoch 13/40\n",
      "30/30 [==============================] - 0s 12ms/step - loss: 0.3299 - accuracy: 0.8919 - val_loss: 0.3620 - val_accuracy: 0.8639\n",
      "Epoch 14/40\n",
      "30/30 [==============================] - 0s 12ms/step - loss: 0.3087 - accuracy: 0.8963 - val_loss: 0.3476 - val_accuracy: 0.8684\n",
      "Epoch 15/40\n",
      "30/30 [==============================] - 0s 13ms/step - loss: 0.2903 - accuracy: 0.9013 - val_loss: 0.3354 - val_accuracy: 0.8731\n",
      "Epoch 16/40\n",
      "30/30 [==============================] - 0s 12ms/step - loss: 0.2742 - accuracy: 0.9061 - val_loss: 0.3256 - val_accuracy: 0.8752\n",
      "Epoch 17/40\n",
      "30/30 [==============================] - 0s 12ms/step - loss: 0.2596 - accuracy: 0.9118 - val_loss: 0.3177 - val_accuracy: 0.8784\n",
      "Epoch 18/40\n",
      "30/30 [==============================] - 0s 12ms/step - loss: 0.2467 - accuracy: 0.9159 - val_loss: 0.3107 - val_accuracy: 0.8790\n",
      "Epoch 19/40\n",
      "30/30 [==============================] - 0s 13ms/step - loss: 0.2346 - accuracy: 0.9197 - val_loss: 0.3059 - val_accuracy: 0.8797\n",
      "Epoch 20/40\n",
      "30/30 [==============================] - 0s 13ms/step - loss: 0.2240 - accuracy: 0.9231 - val_loss: 0.3016 - val_accuracy: 0.8784\n",
      "Epoch 21/40\n",
      "30/30 [==============================] - 0s 12ms/step - loss: 0.2141 - accuracy: 0.9270 - val_loss: 0.2968 - val_accuracy: 0.8809\n",
      "Epoch 22/40\n",
      "30/30 [==============================] - 0s 13ms/step - loss: 0.2047 - accuracy: 0.9322 - val_loss: 0.2938 - val_accuracy: 0.8833\n",
      "Epoch 23/40\n",
      "30/30 [==============================] - 0s 13ms/step - loss: 0.1959 - accuracy: 0.9337 - val_loss: 0.2910 - val_accuracy: 0.8826\n",
      "Epoch 24/40\n",
      "30/30 [==============================] - 0s 12ms/step - loss: 0.1877 - accuracy: 0.9377 - val_loss: 0.2895 - val_accuracy: 0.8836\n",
      "Epoch 25/40\n",
      "30/30 [==============================] - 0s 13ms/step - loss: 0.1803 - accuracy: 0.9409 - val_loss: 0.2882 - val_accuracy: 0.8839\n",
      "Epoch 26/40\n",
      "30/30 [==============================] - 0s 13ms/step - loss: 0.1732 - accuracy: 0.9438 - val_loss: 0.2872 - val_accuracy: 0.8844\n",
      "Epoch 27/40\n",
      "30/30 [==============================] - 0s 13ms/step - loss: 0.1660 - accuracy: 0.9470 - val_loss: 0.2863 - val_accuracy: 0.8841\n",
      "Epoch 28/40\n",
      "30/30 [==============================] - 0s 13ms/step - loss: 0.1598 - accuracy: 0.9498 - val_loss: 0.2862 - val_accuracy: 0.8850\n",
      "Epoch 29/40\n",
      "30/30 [==============================] - 0s 13ms/step - loss: 0.1535 - accuracy: 0.9523 - val_loss: 0.2862 - val_accuracy: 0.8855\n",
      "Epoch 30/40\n",
      "30/30 [==============================] - 0s 12ms/step - loss: 0.1478 - accuracy: 0.9546 - val_loss: 0.2866 - val_accuracy: 0.8861\n",
      "Epoch 31/40\n",
      "30/30 [==============================] - 0s 13ms/step - loss: 0.1424 - accuracy: 0.9569 - val_loss: 0.2875 - val_accuracy: 0.8854\n",
      "Epoch 32/40\n",
      "30/30 [==============================] - 0s 13ms/step - loss: 0.1373 - accuracy: 0.9590 - val_loss: 0.2883 - val_accuracy: 0.8855\n",
      "Epoch 33/40\n",
      "30/30 [==============================] - 0s 12ms/step - loss: 0.1324 - accuracy: 0.9604 - val_loss: 0.2902 - val_accuracy: 0.8855\n",
      "Epoch 34/40\n",
      "30/30 [==============================] - 0s 13ms/step - loss: 0.1269 - accuracy: 0.9633 - val_loss: 0.2916 - val_accuracy: 0.8865\n",
      "Epoch 35/40\n",
      "30/30 [==============================] - 0s 12ms/step - loss: 0.1224 - accuracy: 0.9657 - val_loss: 0.2928 - val_accuracy: 0.8850\n",
      "Epoch 36/40\n",
      "30/30 [==============================] - 0s 12ms/step - loss: 0.1180 - accuracy: 0.9667 - val_loss: 0.2945 - val_accuracy: 0.8857\n",
      "Epoch 37/40\n",
      "30/30 [==============================] - 0s 12ms/step - loss: 0.1140 - accuracy: 0.9679 - val_loss: 0.2967 - val_accuracy: 0.8843\n",
      "Epoch 38/40\n",
      "30/30 [==============================] - 0s 12ms/step - loss: 0.1097 - accuracy: 0.9697 - val_loss: 0.2986 - val_accuracy: 0.8845\n",
      "Epoch 39/40\n",
      "30/30 [==============================] - 0s 12ms/step - loss: 0.1055 - accuracy: 0.9713 - val_loss: 0.3023 - val_accuracy: 0.8838\n",
      "Epoch 40/40\n",
      "30/30 [==============================] - 0s 13ms/step - loss: 0.1019 - accuracy: 0.9726 - val_loss: 0.3043 - val_accuracy: 0.8837\n"
     ]
    }
   ],
   "source": [
    "history = model.fit(partial_x_train,\n",
    "                    partial_y_train,\n",
    "                    epochs=40,\n",
    "                    batch_size=512,\n",
    "                    validation_data=(x_val, y_val),\n",
    "                    verbose=1)"
   ]
  },
  {
   "cell_type": "code",
   "execution_count": 15,
   "id": "2155126a",
   "metadata": {},
   "outputs": [
    {
     "name": "stdout",
     "output_type": "stream",
     "text": [
      "782/782 - 1s - loss: 0.3231 - accuracy: 0.8728 - 592ms/epoch - 757us/step\n",
      "[0.32313525676727295, 0.872759997844696]\n"
     ]
    }
   ],
   "source": [
    "results = model.evaluate(test_data,  test_labels, verbose=2)\n",
    "\n",
    "print(results)"
   ]
  },
  {
   "cell_type": "code",
   "execution_count": 16,
   "id": "e682c101",
   "metadata": {},
   "outputs": [
    {
     "data": {
      "text/plain": [
       "dict_keys(['loss', 'accuracy', 'val_loss', 'val_accuracy'])"
      ]
     },
     "execution_count": 16,
     "metadata": {},
     "output_type": "execute_result"
    }
   ],
   "source": [
    "history_dict = history.history\n",
    "history_dict.keys()"
   ]
  },
  {
   "cell_type": "code",
   "execution_count": 17,
   "id": "df2d65bb",
   "metadata": {},
   "outputs": [
    {
     "data": {
      "image/png": "[encoded data removed]",
      "text/plain": [
       "<Figure size 640x480 with 1 Axes>"
      ]
     },
     "metadata": {},
     "output_type": "display_data"
    }
   ],
   "source": [
    "import matplotlib.pyplot as plt\n",
    "\n",
    "acc = history_dict['accuracy']\n",
    "val_acc = history_dict['val_accuracy']\n",
    "loss = history_dict['loss']\n",
    "val_loss = history_dict['val_loss']\n",
    "\n",
    "epochs = range(1, len(acc) + 1)\n",
    "\n",
    "# “bo”代表 \"蓝点\"\n",
    "plt.plot(epochs, loss, 'bo', label='Training loss')\n",
    "# b代表“蓝色实线”\n",
    "plt.plot(epochs, val_loss, 'b', label='Validation loss')\n",
    "plt.title('Training and validation loss')\n",
    "plt.xlabel('Epochs')\n",
    "plt.ylabel('Loss')\n",
    "plt.legend()\n",
    "\n",
    "plt.show()"
   ]
  },
  {
   "cell_type": "code",
   "execution_count": 18,
   "id": "6284ba50",
   "metadata": {},
   "outputs": [
    {
     "data": {
      "image/png": "[encoded data removed]",
      "text/plain": [
       "<Figure size 640x480 with 1 Axes>"
      ]
     },
     "metadata": {},
     "output_type": "display_data"
    }
   ],
   "source": [
    "plt.clf()   # 清除数字\n",
    "\n",
    "plt.plot(epochs, acc, 'bo', label='Training acc')\n",
    "plt.plot(epochs, val_acc, 'b', label='Validation acc')\n",
    "plt.title('Training and validation accuracy')\n",
    "plt.xlabel('Epochs')\n",
    "plt.ylabel('Accuracy')\n",
    "plt.legend()\n",
    "\n",
    "plt.show()"
   ]
  },
  {
   "cell_type": "code",
   "execution_count": null,
   "id": "6ccbc3e2",
   "metadata": {},
   "outputs": [],
   "source": []
  }
 ],
 "metadata": {
  "kernelspec": {
   "display_name": "Python 3 (ipykernel)",
   "language": "python",
   "name": "python3"
  },
  "language_info": {
   "codemirror_mode": {
    "name": "ipython",
    "version": 3
   },
   "file_extension": ".py",
   "mimetype": "text/x-python",
   "name": "python",
   "nbconvert_exporter": "python",
   "pygments_lexer": "ipython3",
   "version": "3.9.16"
  }
 },
 "nbformat": 4,
 "nbformat_minor": 5
}
